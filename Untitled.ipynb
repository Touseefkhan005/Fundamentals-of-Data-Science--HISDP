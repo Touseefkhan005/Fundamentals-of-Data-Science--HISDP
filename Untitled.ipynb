{
 "cells": [
  {
   "cell_type": "markdown",
   "id": "8db8a0d6-3589-4154-84bc-fe37d636f9c3",
   "metadata": {},
   "source": [
    "Question 1 (Numpy):\r\n",
    "\r\n",
    "import numpy as np\r\n",
    "\r\n",
    "# Create a NumPy array with numbers 1 to 100\r\n",
    "arr = np.arange(1, 101)\r\n",
    "\r\n",
    "# Reshape the array into a 10x10 array\r\n",
    "arr_reshaped = arr.reshape(10, 10)\r\n",
    "\r\n",
    "# Calculate the sum of each row\r\n",
    "row_sums = np.sum(arr_reshaped, axis=1)\r\n",
    "\r\n",
    "# Find the row with the maximum sum\r\n",
    "max_sum_row = np.argmax(row_sums)\r\n",
    "\r\n",
    "print(\"Array:\")\r\n",
    "print(arr_reshaped)\r\n",
    "print()\r\n",
    "print(\"Row Sums:\")\r\n",
    "print(row_sums)\r\n",
    "print()\r\n",
    "print(\"Row with Maximum Sum:\", max_sum_row)"
   ]
  },
  {
   "cell_type": "raw",
   "id": "db270ef0-5c7f-4d24-a24d-4e174bff0e96",
   "metadata": {},
   "source": [
    "OUTPUT"
   ]
  },
  {
   "cell_type": "raw",
   "id": "53c6b2c2-e0ab-4d9d-9cab-799a6ca6a89d",
   "metadata": {},
   "source": [
    "Array:\n",
    "[[  1   2   3   4   5   6   7   8   9  10]\n",
    " [ 11  12  13  14  15  16  17  18  19  20]\n",
    " [ 21  22  23  24  25  26  27  28  29  30]\n",
    " [ 31  32  33  34  35  36  37  38  39  40]\n",
    " [ 41  42  43  44  45  46  47  48  49  50]\n",
    " [ 51  52  53  54  55  56  57  58  59  60]\n",
    " [ 61  62  63  64  65  66  67  68  69  70]\n",
    " [ 71  72  73  74  75  76  77  78  79  80]\n",
    " [ 81  82  83  84  85  86  87  88  89  90]\n",
    " [ 91  92  93  94  95  96  97  98  99 100]]\n",
    "\n",
    "Row Sums:\n",
    "[ 55 155 255 355 455 555 655 755 855 955]\n",
    "\n",
    "Row with Maximum Sum: 9\n"
   ]
  },
  {
   "cell_type": "markdown",
   "id": "6d6abd7e-4091-4aa8-bec1-e82fcab6330c",
   "metadata": {},
   "source": [
    "Question 2(Numpy):\n",
    "import numpy as np\n",
    "\n",
    "# Create a 2D NumPy array with dimensions 5x5\n",
    "arr = np.random.randint(1, 10, (5, 5))\n",
    "print(\"Original Array:\")\n",
    "print(arr)\n",
    "\n",
    "# Calculate the mean value of the last column\n",
    "mean_value = np.mean(arr[:, -1])\n",
    "\n",
    "# Replace the last column with the mean value\n",
    "arr[:, -1] = mean_value\n",
    "\n",
    "print(\"Mean Array:\")\n",
    "print(arr)\n",
    "\n"
   ]
  },
  {
   "cell_type": "raw",
   "id": "99fca610-2ffe-440d-9d53-93a154954aa8",
   "metadata": {},
   "source": [
    "OUTPUT"
   ]
  },
  {
   "cell_type": "raw",
   "id": "ac53a658-767e-48fd-b46c-e9c2a3fd0f32",
   "metadata": {},
   "source": [
    "Original Array:\n",
    "[[5 9 3 2 7]\n",
    " [4 6 1 7 5]\n",
    " [3 4 5 8 9]\n",
    " [1 2 3 6 8]\n",
    " [2 1 8 9 2]]\n",
    "\n",
    "Mean Array:\n",
    "[[5 9 3 2 6.2]\n",
    " [4 6 1 7 6.2]\n",
    " [3 4 5 8 6.2]\n",
    " [1 2 3 6 6.2]\n",
    " [2 1 8 9 6.2]]\n"
   ]
  }
 ],
 "metadata": {
  "kernelspec": {
   "display_name": "Python 3 (ipykernel)",
   "language": "python",
   "name": "python3"
  },
  "language_info": {
   "codemirror_mode": {
    "name": "ipython",
    "version": 3
   },
   "file_extension": ".py",
   "mimetype": "text/x-python",
   "name": "python",
   "nbconvert_exporter": "python",
   "pygments_lexer": "ipython3",
   "version": "3.12.4"
  }
 },
 "nbformat": 4,
 "nbformat_minor": 5
}
